{
 "cells": [
  {
   "cell_type": "markdown",
   "metadata": {},
   "source": [
    "# Find Percentage of Rating of Car Regarding Safety "
   ]
  },
  {
   "cell_type": "markdown",
   "metadata": {},
   "source": [
    "## 1.0 Introduction\n",
    "\n",
    "I found the data sources from:\n",
    "\n",
    "- https://www.kaggle.com/elikplim/car-evaluation-data-set![image.png](attachment:image.png)\n",
    "\n",
    "- https://data.world/uci/car-evaluation![image.png](attachment:image.png)\n",
    "\n",
    "I address two in my analysis:\n",
    "\n",
    "- Does there exist a high percentage of cars that cost high, medium and low values that rate as high, medium regarding safety?\n",
    "- Considering high, medium and low 'buying price' of cars, what percentage of 2, 3, 4 seat cars rate high, medium and low concerning safety?"
   ]
  },
  {
   "cell_type": "markdown",
   "metadata": {},
   "source": [
    "## 2.0 Synopsis"
   ]
  },
  {
   "cell_type": "markdown",
   "metadata": {},
   "source": [
    "I:\n",
    "\n",
    "1. Loaded the csv file.\n",
    "2. Found the percentage of cars safety that rate as high, low and med for each buying price category (v.high, high, med, low).\n",
    "3. Found the percentage of cars safety that rate as high, low and med for two, three and four seater cars.\n",
    "4. Produced multi subplots of a graph using matplotlib.\n",
    "5. Produced subplot for each buying category.  Each subplot contains a bar chart of percentage of cars that rate as high, low and med.\n",
    "6. Filtered only rows of buying price of high, medium and low values.\n",
    "7. Produced a second multi subplots of a graph using matplotlib.\n",
    "8. Took the filtered rows and produced a subplot for each car seat category of two, three or four.  Each subplot contains a bar chart of percentage of cars that rate as high, low and med.\n"
   ]
  },
  {
   "cell_type": "markdown",
   "metadata": {},
   "source": [
    "## 3.0 Processing"
   ]
  },
  {
   "cell_type": "code",
   "execution_count": 15,
   "metadata": {},
   "outputs": [
    {
     "data": {
      "text/html": [
       "<div>\n",
       "<style scoped>\n",
       "    .dataframe tbody tr th:only-of-type {\n",
       "        vertical-align: middle;\n",
       "    }\n",
       "\n",
       "    .dataframe tbody tr th {\n",
       "        vertical-align: top;\n",
       "    }\n",
       "\n",
       "    .dataframe thead th {\n",
       "        text-align: right;\n",
       "    }\n",
       "</style>\n",
       "<table border=\"1\" class=\"dataframe\">\n",
       "  <thead>\n",
       "    <tr style=\"text-align: right;\">\n",
       "      <th></th>\n",
       "      <th>fraction</th>\n",
       "      <th>safety</th>\n",
       "    </tr>\n",
       "  </thead>\n",
       "  <tbody>\n",
       "    <tr>\n",
       "      <th>high</th>\n",
       "      <td>30</td>\n",
       "      <td>high</td>\n",
       "    </tr>\n",
       "    <tr>\n",
       "      <th>high</th>\n",
       "      <td>30</td>\n",
       "      <td>med</td>\n",
       "    </tr>\n",
       "    <tr>\n",
       "      <th>high</th>\n",
       "      <td>40</td>\n",
       "      <td>low</td>\n",
       "    </tr>\n",
       "    <tr>\n",
       "      <th>med</th>\n",
       "      <td>30</td>\n",
       "      <td>high</td>\n",
       "    </tr>\n",
       "    <tr>\n",
       "      <th>med</th>\n",
       "      <td>30</td>\n",
       "      <td>med</td>\n",
       "    </tr>\n",
       "    <tr>\n",
       "      <th>med</th>\n",
       "      <td>40</td>\n",
       "      <td>low</td>\n",
       "    </tr>\n",
       "  </tbody>\n",
       "</table>\n",
       "</div>"
      ],
      "text/plain": [
       "      fraction safety\n",
       "high        30   high\n",
       "high        30    med\n",
       "high        40    low\n",
       "med         30   high\n",
       "med         30    med\n",
       "med         40    low"
      ]
     },
     "execution_count": 15,
     "metadata": {},
     "output_type": "execute_result"
    }
   ],
   "source": [
    "#aim is to get a list of codes\n",
    "#step 1 - import required modules\n",
    "import pandas as pd\n",
    "import unittest\n",
    "import numpy as np\n",
    "\n",
    "\n",
    "\n",
    "#step 2 - find the percentage of cars that rate as high, med, low for each\n",
    "\n",
    "def percent(df=pd.DataFrame()):\n",
    "    \n",
    "'''\n",
    "step 3 - read csv file\n",
    "and create names 'buying.price', 'maintaince.cost', 'number.doors', 'number.persons', 'lug.boot', 'safety', 'decision' \n",
    "with no header\n",
    "'''\n",
    "\n",
    "file_car = pd.read_csv(\"car_evaluation.csv\", header=None, names=['buying.price', 'maintaince.cost', 'number.doors', 'number.persons', 'lug.boot', 'safety', 'decision'])\n",
    "\n",
    "\n",
    "\n",
    "#file_car[file_car['buying.price']=='high'].head(n=10).append(file_car[file_car['buying.price']=='med'].head(n=10))"
   ]
  },
  {
   "cell_type": "code",
   "execution_count": null,
   "metadata": {},
   "outputs": [],
   "source": [
    "\n",
    "\n",
    "class TestNotebook():\n",
    "    \n",
    "    def test_percent_null(self):\n",
    "        '''\n",
    "        test an empty data frame\n",
    "        '''\n",
    "        \n",
    "        self.assertEqual(pecent(pd.DataFrame()), None)\n",
    "    \n",
    "    def test_percent_one_row(self):\n",
    "        '''\n",
    "        test one row of data frame\n",
    "        '''\n",
    "        \n",
    "        self.assertEqual(pecent(file_car.loc[0]), pd.DataFrame({'safety':['low'], 'fraction':100}, index=['vhigh']))\n",
    "    \n",
    "    def test_percent_vhigh(self):\n",
    "        '''\n",
    "        test 10 rows of data frame.\n",
    "        test case of 'buying.price' of 'vhigh'\n",
    "        '''\n",
    "        self.assertEqual(percent(file_car.loc[0:9]), \n",
    "                         pd.DataFrame({'safety':['high', 'med', 'low'], 'fraction':np.array([30, 30, 40])}, \n",
    "                                      index=['vhigh', 'vhigh', 'vhigh']))\n",
    "        \n",
    "    def test_percent_high_med(self):\n",
    "        '''\n",
    "        test 20 rows.\n",
    "        test cases of 'buying.price' of 'high' & 'med'\n",
    "        '''\n",
    "        self.assertEqual(percent(file_car[file_car['buying.price']=='high'].head(n=10).append(file_car[file_car['buying.price']=='med'].head(n=10))),\n",
    "                        pd.DataFrame({'safety':['high', 'med', 'low','high', 'med', 'low'], 'fraction':np.array([30, 30, 40, 30, 30, 40])}, \n",
    "                                      index=['high', 'high', 'high', 'med', 'med', 'med']))\n",
    "\n",
    "unittest.main(argv=[''], verbosity=2, exit=False)\n",
    "    \n",
    "    "
   ]
  }
 ],
 "metadata": {
  "kernelspec": {
   "display_name": "Python 2",
   "language": "python",
   "name": "python2"
  },
  "language_info": {
   "codemirror_mode": {
    "name": "ipython",
    "version": 2
   },
   "file_extension": ".py",
   "mimetype": "text/x-python",
   "name": "python",
   "nbconvert_exporter": "python",
   "pygments_lexer": "ipython2",
   "version": "2.7.16"
  }
 },
 "nbformat": 4,
 "nbformat_minor": 2
}
