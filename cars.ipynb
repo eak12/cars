{
 "cells": [
  {
   "cell_type": "markdown",
   "metadata": {},
   "source": [
    "# Find Percentage of Rating of Car Regarding Safety "
   ]
  },
  {
   "attachments": {},
   "cell_type": "markdown",
   "metadata": {},
   "source": [
    "## 1.0 Introduction\n",
    "\n",
    "I found the data sources from:\n",
    "\n",
    "- https://www.kaggle.com/elikplim/car-evaluation-data-set![image.png](attachment:image.png)\n",
    "\n",
    "- https://data.world/uci/car-evaluation![image.png](attachment:image.png)\n",
    "\n",
    "I address two in my analysis:\n",
    "\n",
    "- Does there exist a high percentage of cars that cost high, medium and low values that rate as high, medium regarding safety?\n",
    "- Considering high, medium and low cost value of cars, what percentage of 2, 3, 4 seat cars rate high, medium and low concerning safety?"
   ]
  },
  {
   "cell_type": "markdown",
   "metadata": {},
   "source": [
    "## 2.0 Synopsis"
   ]
  },
  {
   "cell_type": "code",
   "execution_count": null,
   "metadata": {},
   "outputs": [],
   "source": []
  }
 ],
 "metadata": {
  "kernelspec": {
   "display_name": "Python 2",
   "language": "python",
   "name": "python2"
  },
  "language_info": {
   "codemirror_mode": {
    "name": "ipython",
    "version": 2
   },
   "file_extension": ".py",
   "mimetype": "text/x-python",
   "name": "python",
   "nbconvert_exporter": "python",
   "pygments_lexer": "ipython2",
   "version": "2.7.16"
  }
 },
 "nbformat": 4,
 "nbformat_minor": 2
}
