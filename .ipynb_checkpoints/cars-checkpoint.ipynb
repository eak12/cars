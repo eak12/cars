{
 "cells": [
  {
   "cell_type": "markdown",
   "metadata": {},
   "source": [
    "# Find Percentage of Rating of Car Regarding Safety "
   ]
  },
  {
   "cell_type": "markdown",
   "metadata": {},
   "source": [
    "## 1.0 Introduction\n",
    "\n",
    "I found the data sources from:\n",
    "\n",
    "- https://www.kaggle.com/elikplim/car-evaluation-data-set![image.png](attachment:image.png)\n",
    "\n",
    "- https://data.world/uci/car-evaluation![image.png](attachment:image.png)\n",
    "\n",
    "I address two in my analysis:\n",
    "\n",
    "- Does there exist a high percentage of cars that cost high, medium and low values that rate as high, medium regarding safety?\n",
    "- Considering high, medium and low 'buying price' of cars, what percentage of 2, 3, 4 seat cars rate high, medium and low concerning safety?"
   ]
  },
  {
   "cell_type": "markdown",
   "metadata": {},
   "source": [
    "## 2.0 Synopsis"
   ]
  },
  {
   "cell_type": "markdown",
   "metadata": {},
   "source": [
    "I:\n",
    "\n",
    "1. Loaded the csv file.\n",
    "2. Found the percentage of cars safety that rate as high, low and med for each buying price category (v.high, high, med, low).\n",
    "3. Found the percentage of cars safety that rate as high, low and med for two, three and four seater cars.\n",
    "4. Produced multi subplots of a graph using matplotlib.\n",
    "5. Produced subplot for each buying category.  Each subplot contains a bar chart of percentage of cars that rate as high, low and med.\n",
    "6. Filtered only rows of buying price of high, medium and low values.\n",
    "7. Produced a second multi subplots of a graph using matplotlib.\n",
    "8. Took the filtered rows and produced a subplot for each car seat category of two, three or four.  Each subplot contains a bar chart of percentage of cars that rate as high, low and med.\n"
   ]
  },
  {
   "cell_type": "markdown",
   "metadata": {},
   "source": [
    "## 3.0 Processing"
   ]
  },
  {
   "cell_type": "code",
   "execution_count": 6,
   "metadata": {},
   "outputs": [
    {
     "data": {
      "text/html": [
       "<div>\n",
       "<style scoped>\n",
       "    .dataframe tbody tr th:only-of-type {\n",
       "        vertical-align: middle;\n",
       "    }\n",
       "\n",
       "    .dataframe tbody tr th {\n",
       "        vertical-align: top;\n",
       "    }\n",
       "\n",
       "    .dataframe thead th {\n",
       "        text-align: right;\n",
       "    }\n",
       "</style>\n",
       "<table border=\"1\" class=\"dataframe\">\n",
       "  <thead>\n",
       "    <tr style=\"text-align: right;\">\n",
       "      <th></th>\n",
       "      <th>buying.price</th>\n",
       "      <th>maintaince.cost</th>\n",
       "      <th>number.doors</th>\n",
       "      <th>number.persons</th>\n",
       "      <th>lug.boot</th>\n",
       "      <th>safety</th>\n",
       "      <th>decision</th>\n",
       "    </tr>\n",
       "  </thead>\n",
       "  <tbody>\n",
       "    <tr>\n",
       "      <th>0</th>\n",
       "      <td>vhigh</td>\n",
       "      <td>vhigh</td>\n",
       "      <td>2</td>\n",
       "      <td>2</td>\n",
       "      <td>small</td>\n",
       "      <td>low</td>\n",
       "      <td>unacc</td>\n",
       "    </tr>\n",
       "    <tr>\n",
       "      <th>1</th>\n",
       "      <td>vhigh</td>\n",
       "      <td>vhigh</td>\n",
       "      <td>2</td>\n",
       "      <td>2</td>\n",
       "      <td>small</td>\n",
       "      <td>med</td>\n",
       "      <td>unacc</td>\n",
       "    </tr>\n",
       "    <tr>\n",
       "      <th>2</th>\n",
       "      <td>vhigh</td>\n",
       "      <td>vhigh</td>\n",
       "      <td>2</td>\n",
       "      <td>2</td>\n",
       "      <td>small</td>\n",
       "      <td>high</td>\n",
       "      <td>unacc</td>\n",
       "    </tr>\n",
       "    <tr>\n",
       "      <th>3</th>\n",
       "      <td>vhigh</td>\n",
       "      <td>vhigh</td>\n",
       "      <td>2</td>\n",
       "      <td>2</td>\n",
       "      <td>med</td>\n",
       "      <td>low</td>\n",
       "      <td>unacc</td>\n",
       "    </tr>\n",
       "    <tr>\n",
       "      <th>4</th>\n",
       "      <td>vhigh</td>\n",
       "      <td>vhigh</td>\n",
       "      <td>2</td>\n",
       "      <td>2</td>\n",
       "      <td>med</td>\n",
       "      <td>med</td>\n",
       "      <td>unacc</td>\n",
       "    </tr>\n",
       "  </tbody>\n",
       "</table>\n",
       "</div>"
      ],
      "text/plain": [
       "  buying.price maintaince.cost number.doors number.persons lug.boot safety  \\\n",
       "0        vhigh           vhigh            2              2    small    low   \n",
       "1        vhigh           vhigh            2              2    small    med   \n",
       "2        vhigh           vhigh            2              2    small   high   \n",
       "3        vhigh           vhigh            2              2      med    low   \n",
       "4        vhigh           vhigh            2              2      med    med   \n",
       "\n",
       "  decision  \n",
       "0    unacc  \n",
       "1    unacc  \n",
       "2    unacc  \n",
       "3    unacc  \n",
       "4    unacc  "
      ]
     },
     "execution_count": 6,
     "metadata": {},
     "output_type": "execute_result"
    }
   ],
   "source": [
    "#aim is to get a list of codes\n",
    "#step 1 - import pandas\n",
    "import pandas as pd\n",
    "'''\n",
    "step 2 - read csv file\n",
    "and create names 'buying.price', 'maintaince.cost', 'number.doors', 'number.persons', 'lug.boot', 'safety', 'decision' \n",
    "with no header\n",
    "'''\n",
    "\n",
    "file_car = pd.read_csv(\"car_evaluation.csv\", header=None, names=['buying.price', 'maintaince.cost', 'number.doors', 'number.persons', 'lug.boot', 'safety', 'decision'])\n",
    "\n",
    "file_car.head()"
   ]
  },
  {
   "cell_type": "code",
   "execution_count": null,
   "metadata": {},
   "outputs": [],
   "source": []
  }
 ],
 "metadata": {
  "kernelspec": {
   "display_name": "Python 2",
   "language": "python",
   "name": "python2"
  },
  "language_info": {
   "codemirror_mode": {
    "name": "ipython",
    "version": 2
   },
   "file_extension": ".py",
   "mimetype": "text/x-python",
   "name": "python",
   "nbconvert_exporter": "python",
   "pygments_lexer": "ipython2",
   "version": "2.7.16"
  }
 },
 "nbformat": 4,
 "nbformat_minor": 2
}
