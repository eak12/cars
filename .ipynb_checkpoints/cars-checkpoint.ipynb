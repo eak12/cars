{
 "cells": [
  {
   "cell_type": "markdown",
   "metadata": {},
   "source": [
    "# Find Percentage of Rating of Car Regarding Safety "
   ]
  },
  {
   "cell_type": "markdown",
   "metadata": {},
   "source": [
    "## 1.0 Introduction\n",
    "\n",
    "I found the data sources from:\n",
    "\n",
    "- https://www.kaggle.com/elikplim/car-evaluation-data-set![image.png](attachment:image.png)\n",
    "\n",
    "- https://data.world/uci/car-evaluation![image.png](attachment:image.png)\n",
    "\n",
    "I address two in my analysis:\n",
    "\n",
    "- Does there exist a high percentage of cars that cost high, medium and low values that rate as high, medium regarding safety?\n",
    "- Considering high, medium and low 'buying price' of cars, what percentage of 2, 3, 4 seat cars rate high, medium and low concerning safety?"
   ]
  },
  {
   "cell_type": "markdown",
   "metadata": {},
   "source": [
    "## 2.0 Synopsis"
   ]
  },
  {
   "cell_type": "markdown",
   "metadata": {},
   "source": [
    "I:\n",
    "\n",
    "1. Loaded the csv file.\n",
    "2. Found the percentage of cars safety that rate as high, low and med for each buying price category (v.high, high, med, low).\n",
    "3. Found the percentage of cars safety that rate as high, low and med for two, three and four seater cars.\n",
    "4. Produced multi subplots of a graph using matplotlib.\n",
    "5. Produced subplot for each buying category.  Each subplot contains a bar chart of percentage of cars that rate as high, low and med.\n",
    "6. Filtered only rows of buying price of high, medium and low values.\n",
    "7. Produced a second multi subplots of a graph using matplotlib.\n",
    "8. Took the filtered rows and produced a subplot for each car seat category of two, three or four.  Each subplot contains a bar chart of percentage of cars that rate as high, low and med.\n"
   ]
  },
  {
   "cell_type": "markdown",
   "metadata": {},
   "source": [
    "## 3.0 Processing"
   ]
  },
  {
   "cell_type": "code",
   "execution_count": 107,
   "metadata": {},
   "outputs": [
    {
     "data": {
      "text/html": [
       "<div>\n",
       "<style scoped>\n",
       "    .dataframe tbody tr th:only-of-type {\n",
       "        vertical-align: middle;\n",
       "    }\n",
       "\n",
       "    .dataframe tbody tr th {\n",
       "        vertical-align: top;\n",
       "    }\n",
       "\n",
       "    .dataframe thead th {\n",
       "        text-align: right;\n",
       "    }\n",
       "</style>\n",
       "<table border=\"1\" class=\"dataframe\">\n",
       "  <thead>\n",
       "    <tr style=\"text-align: right;\">\n",
       "      <th></th>\n",
       "      <th>safety</th>\n",
       "      <th>percent</th>\n",
       "    </tr>\n",
       "    <tr>\n",
       "      <th>buying.price</th>\n",
       "      <th></th>\n",
       "      <th></th>\n",
       "    </tr>\n",
       "  </thead>\n",
       "  <tbody>\n",
       "    <tr>\n",
       "      <th>high</th>\n",
       "      <td>low</td>\n",
       "      <td>40.0</td>\n",
       "    </tr>\n",
       "    <tr>\n",
       "      <th>high</th>\n",
       "      <td>high</td>\n",
       "      <td>30.0</td>\n",
       "    </tr>\n",
       "    <tr>\n",
       "      <th>high</th>\n",
       "      <td>med</td>\n",
       "      <td>30.0</td>\n",
       "    </tr>\n",
       "    <tr>\n",
       "      <th>med</th>\n",
       "      <td>low</td>\n",
       "      <td>40.0</td>\n",
       "    </tr>\n",
       "    <tr>\n",
       "      <th>med</th>\n",
       "      <td>high</td>\n",
       "      <td>30.0</td>\n",
       "    </tr>\n",
       "    <tr>\n",
       "      <th>med</th>\n",
       "      <td>med</td>\n",
       "      <td>30.0</td>\n",
       "    </tr>\n",
       "  </tbody>\n",
       "</table>\n",
       "</div>"
      ],
      "text/plain": [
       "             safety  percent\n",
       "buying.price                \n",
       "high            low     40.0\n",
       "high           high     30.0\n",
       "high            med     30.0\n",
       "med             low     40.0\n",
       "med            high     30.0\n",
       "med             med     30.0"
      ]
     },
     "execution_count": 107,
     "metadata": {},
     "output_type": "execute_result"
    }
   ],
   "source": [
    "#aim is to get a list of codes\n",
    "#step 1 - import required modules\n",
    "import pandas as pd\n",
    "import unittest\n",
    "import numpy as np\n",
    "\n",
    "\n",
    "\n",
    "#step 2 - find the percentage of cars that rate as high, med, low for each\n",
    "\n",
    "def percent(df):\n",
    "    \n",
    "    if df.empty==True:\n",
    "            return None\n",
    "    else:\n",
    "             #step 3 - produce a series - do a first group by of buying.price and safety\n",
    "            count = df.groupby('buying.price')['safety'].value_counts()\n",
    "            \n",
    "            #step 4 - produce a second series - do a second group by, \n",
    "            #i.e. for each 2nd group of 'buying.price' iterate and calculate 100 * safety's count divided by 'buying.price subtotal'\n",
    "            count_pcts = count.groupby(level=0).apply(lambda x:\n",
    "                                                 100 * x / float(x.sum()))\n",
    "            return count_pcts.reset_index(name='percent').set_index(\"buying.price\")\n",
    "    \n",
    "'''\n",
    "step 3 - read csv file\n",
    "and create names 'buying.price', 'maintaince.cost', 'number.doors', 'number.persons', 'lug.boot', 'safety', 'decision' \n",
    "with no header\n",
    "'''\n",
    "\n",
    "file_car = pd.read_csv(\"car_evaluation.csv\", header=None, names=['buying.price', 'maintaince.cost', 'number.doors', 'number.persons', 'lug.boot', 'safety', 'decision'])\n",
    "\n",
    "\n",
    "\n",
    "#file_car[file_car['buying.price']=='high'].head(n=10).append(file_car[file_car['buying.price']=='med'].head(n=10))\n",
    "\n",
    "\n",
    "percent(file_car.head(10))\n",
    "\n",
    "\n",
    "\n",
    "\n",
    "\n",
    "percent(file_car[file_car['buying.price']=='high'].head(n=10).append(file_car[file_car['buying.price']=='med'].head(n=10)))\n"
   ]
  },
  {
   "cell_type": "code",
   "execution_count": 108,
   "metadata": {},
   "outputs": [
    {
     "name": "stderr",
     "output_type": "stream",
     "text": [
      "test_percent_high_med (__main__.TestNotebook) ... ok\n",
      "test_percent_null (__main__.TestNotebook) ... ok\n",
      "test_percent_one_row (__main__.TestNotebook) ... ok\n",
      "test_percent_vhigh (__main__.TestNotebook) ... ok\n",
      "\n",
      "----------------------------------------------------------------------\n",
      "Ran 4 tests in 0.110s\n",
      "\n",
      "OK\n"
     ]
    },
    {
     "data": {
      "text/plain": [
       "<unittest.main.TestProgram at 0x7b0f350>"
      ]
     },
     "execution_count": 108,
     "metadata": {},
     "output_type": "execute_result"
    }
   ],
   "source": [
    "\n",
    "\n",
    "class TestNotebook(unittest.TestCase):\n",
    "    \n",
    "    def test_percent_null(self):\n",
    "        '''\n",
    "        test an empty data frame\n",
    "        '''\n",
    "        #step 1 - test when empty data frame is returned\n",
    "        \n",
    "        self.assertEqual(percent(pd.DataFrame()), None)\n",
    "    \n",
    "    def test_percent_one_row(self):\n",
    "        '''\n",
    "        test one row of data frame\n",
    "        '''\n",
    "        #step 2 - create predicted data frame\n",
    "        predicted_df =pd.DataFrame({'safety':['low'], 'percent':100.0, 'buying.price':['vhigh']}).set_index('buying.price')\n",
    "\n",
    "        #step 3 - switch column order of predicted data frame\n",
    "        cols = ['safety', 'percent']\n",
    "\n",
    "        predicted_df = predicted_df[cols]\n",
    "        \n",
    "        \n",
    "\n",
    "        \n",
    "        #step 4 - test actual equals predicted data frame\n",
    "        test_df =percent(file_car.head(n=1))\n",
    "        self.assertEqual(test_df.equals(predicted_df), True)\n",
    "    \n",
    "    def test_percent_vhigh(self):\n",
    "        '''\n",
    "        test 10 rows of data frame.\n",
    "        test case of 'buying.price' of 'vhigh'\n",
    "        '''\n",
    "        \n",
    "        #step 5 - create predicted data frame \n",
    "        predict=pd.DataFrame({'safety':['low', 'high', 'med'],'percent':np.array([40.0, 30.0, 30.0]),\n",
    "                                      'buying.price':['vhigh', 'vhigh', 'vhigh']}).set_index('buying.price')\n",
    "\n",
    "        #step 6 - switch column order of predicted data frame\n",
    "        cols = ['safety', 'percent']\n",
    "        \n",
    "        predict=predict[cols]\n",
    "        #step 7 - test actual equals predicted data frame\n",
    "        test_df=percent(file_car.head(10))\n",
    "        \n",
    "        self.assertEqual(test_df.equals(predict), True)\n",
    "        \n",
    "    def test_percent_high_med(self):\n",
    "        '''\n",
    "        test 20 rows.\n",
    "        test cases of 'buying.price' of 'high' & 'med'\n",
    "        '''\n",
    "        #step 8 - create predict data frame\n",
    "        predict=pd.DataFrame({'safety':['low', 'high', 'med','low', 'high', 'med'], 'percent':np.array([40.0, 30.0, 30.0, 40.0, 30.0, 30.0]), \n",
    "                                      'buying.price':['high', 'high', 'high', 'med', 'med', 'med']}).set_index('buying.price')\n",
    "        #step 9 - switch column order of predicted data frame\n",
    "        cols = ['safety', 'percent']\n",
    "\n",
    "        predict = predict[cols]\n",
    "        #step 10 - test actual equals predict data frame\n",
    "        test_df = percent(file_car[file_car['buying.price']=='high'].head(n=10).append(file_car[file_car['buying.price']=='med'].head(n=10)))\n",
    "        \n",
    "        self.assertEqual(test_df.equals(predict), True)\n",
    "\n",
    "unittest.main(argv=[''], verbosity=2, exit=False)\n",
    "    \n",
    "    "
   ]
  },
  {
   "cell_type": "code",
   "execution_count": null,
   "metadata": {},
   "outputs": [],
   "source": []
  }
 ],
 "metadata": {
  "kernelspec": {
   "display_name": "Python 2",
   "language": "python",
   "name": "python2"
  },
  "language_info": {
   "codemirror_mode": {
    "name": "ipython",
    "version": 2
   },
   "file_extension": ".py",
   "mimetype": "text/x-python",
   "name": "python",
   "nbconvert_exporter": "python",
   "pygments_lexer": "ipython2",
   "version": "2.7.16"
  }
 },
 "nbformat": 4,
 "nbformat_minor": 2
}
